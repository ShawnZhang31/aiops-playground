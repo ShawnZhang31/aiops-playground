{
 "metadata": {
  "language_info": {
   "codemirror_mode": {
    "name": "ipython",
    "version": 3
   },
   "file_extension": ".py",
   "mimetype": "text/x-python",
   "name": "python",
   "nbconvert_exporter": "python",
   "pygments_lexer": "ipython3",
   "version": "3.6.9-final"
  },
  "orig_nbformat": 2,
  "kernelspec": {
   "name": "python3",
   "display_name": "Python 3.6.9 64-bit ('venv': venv)",
   "metadata": {
    "interpreter": {
     "hash": "b4d045fe33edc6ab27005f7fca09cf2d9c972b5b2a43f7d50a73d4eb51a6dd72"
    }
   }
  }
 },
 "nbformat": 4,
 "nbformat_minor": 2,
 "cells": [
  {
   "cell_type": "code",
   "execution_count": 1,
   "metadata": {},
   "outputs": [],
   "source": [
    "import os\n",
    "import json\n",
    "# from ./../Utils.data.preprocessing import load_rizhiyi_json_file_as_dataframe\n",
    "from data.preprocessing import load_rizhiyi_json_file_as_dataframe\n",
    "import pandas as pd\n",
    "import numpy as np"
   ]
  },
  {
   "cell_type": "code",
   "execution_count": 2,
   "metadata": {},
   "outputs": [
    {
     "output_type": "execute_result",
     "data": {
      "text/plain": [
       "                             kpi_id kpiName time_interval_ms  \\\n",
       "0  3b18bacd588cc1f0c68615f0deb2f3d4    负载占比            60000   \n",
       "1  3b18bacd588cc1f0c68615f0deb2f3d4    负载占比            60000   \n",
       "2  3b18bacd588cc1f0c68615f0deb2f3d4    负载占比            60000   \n",
       "3  3b18bacd588cc1f0c68615f0deb2f3d4    负载占比            60000   \n",
       "4  3b18bacd588cc1f0c68615f0deb2f3d4    负载占比            60000   \n",
       "\n",
       "                  endpoint    appname      service  name  anonymity  \\\n",
       "0  oppf_esb_2_10.255.34.38  kpi_point  集群负载.能力开放.2  负载占比          0   \n",
       "1  oppf_esb_2_10.255.34.38  kpi_point  集群负载.能力开放.2  负载占比          0   \n",
       "2  oppf_esb_2_10.255.34.38  kpi_point  集群负载.能力开放.2  负载占比          0   \n",
       "3  oppf_esb_2_10.255.34.38  kpi_point  集群负载.能力开放.2  负载占比          0   \n",
       "4  oppf_esb_2_10.255.34.38  kpi_point  集群负载.能力开放.2  负载占比          0   \n",
       "\n",
       "   context_id   value                       ts      timestamp  \n",
       "0           0  14.217  2020-09-30:23:59:00.000  1601481580000  \n",
       "1           0  14.110  2020-09-30:23:58:00.000  1601481520000  \n",
       "2           0  13.964  2020-09-30:23:57:00.000  1601481460000  \n",
       "3           0  13.219  2020-09-30:23:56:00.000  1601481400000  \n",
       "4           0  13.613  2020-09-30:23:55:00.000  1601481340000  "
      ],
      "text/html": "<div>\n<style scoped>\n    .dataframe tbody tr th:only-of-type {\n        vertical-align: middle;\n    }\n\n    .dataframe tbody tr th {\n        vertical-align: top;\n    }\n\n    .dataframe thead th {\n        text-align: right;\n    }\n</style>\n<table border=\"1\" class=\"dataframe\">\n  <thead>\n    <tr style=\"text-align: right;\">\n      <th></th>\n      <th>kpi_id</th>\n      <th>kpiName</th>\n      <th>time_interval_ms</th>\n      <th>endpoint</th>\n      <th>appname</th>\n      <th>service</th>\n      <th>name</th>\n      <th>anonymity</th>\n      <th>context_id</th>\n      <th>value</th>\n      <th>ts</th>\n      <th>timestamp</th>\n    </tr>\n  </thead>\n  <tbody>\n    <tr>\n      <th>0</th>\n      <td>3b18bacd588cc1f0c68615f0deb2f3d4</td>\n      <td>负载占比</td>\n      <td>60000</td>\n      <td>oppf_esb_2_10.255.34.38</td>\n      <td>kpi_point</td>\n      <td>集群负载.能力开放.2</td>\n      <td>负载占比</td>\n      <td>0</td>\n      <td>0</td>\n      <td>14.217</td>\n      <td>2020-09-30:23:59:00.000</td>\n      <td>1601481580000</td>\n    </tr>\n    <tr>\n      <th>1</th>\n      <td>3b18bacd588cc1f0c68615f0deb2f3d4</td>\n      <td>负载占比</td>\n      <td>60000</td>\n      <td>oppf_esb_2_10.255.34.38</td>\n      <td>kpi_point</td>\n      <td>集群负载.能力开放.2</td>\n      <td>负载占比</td>\n      <td>0</td>\n      <td>0</td>\n      <td>14.110</td>\n      <td>2020-09-30:23:58:00.000</td>\n      <td>1601481520000</td>\n    </tr>\n    <tr>\n      <th>2</th>\n      <td>3b18bacd588cc1f0c68615f0deb2f3d4</td>\n      <td>负载占比</td>\n      <td>60000</td>\n      <td>oppf_esb_2_10.255.34.38</td>\n      <td>kpi_point</td>\n      <td>集群负载.能力开放.2</td>\n      <td>负载占比</td>\n      <td>0</td>\n      <td>0</td>\n      <td>13.964</td>\n      <td>2020-09-30:23:57:00.000</td>\n      <td>1601481460000</td>\n    </tr>\n    <tr>\n      <th>3</th>\n      <td>3b18bacd588cc1f0c68615f0deb2f3d4</td>\n      <td>负载占比</td>\n      <td>60000</td>\n      <td>oppf_esb_2_10.255.34.38</td>\n      <td>kpi_point</td>\n      <td>集群负载.能力开放.2</td>\n      <td>负载占比</td>\n      <td>0</td>\n      <td>0</td>\n      <td>13.219</td>\n      <td>2020-09-30:23:56:00.000</td>\n      <td>1601481400000</td>\n    </tr>\n    <tr>\n      <th>4</th>\n      <td>3b18bacd588cc1f0c68615f0deb2f3d4</td>\n      <td>负载占比</td>\n      <td>60000</td>\n      <td>oppf_esb_2_10.255.34.38</td>\n      <td>kpi_point</td>\n      <td>集群负载.能力开放.2</td>\n      <td>负载占比</td>\n      <td>0</td>\n      <td>0</td>\n      <td>13.613</td>\n      <td>2020-09-30:23:55:00.000</td>\n      <td>1601481340000</td>\n    </tr>\n  </tbody>\n</table>\n</div>"
     },
     "metadata": {},
     "execution_count": 2
    }
   ],
   "source": [
    "root_dir = \"./../../../data/riviyi_test\"\n",
    "filename = \"o2_process_load_percent.json\"\n",
    "# filename = \"o1.json\"\n",
    "# filename = \"o2.json\"\n",
    "\n",
    "log_data:pd.DataFrame = load_rizhiyi_json_file_as_dataframe(root_dir, filename)\n",
    "\n",
    "log_data.head()"
   ]
  },
  {
   "cell_type": "code",
   "execution_count": 3,
   "metadata": {},
   "outputs": [
    {
     "output_type": "stream",
     "name": "stdout",
     "text": [
      "<class 'pandas.core.frame.DataFrame'>\nRangeIndex: 127716 entries, 0 to 127715\nData columns (total 12 columns):\n #   Column            Non-Null Count   Dtype  \n---  ------            --------------   -----  \n 0   kpi_id            127716 non-null  object \n 1   kpiName           127716 non-null  object \n 2   time_interval_ms  127716 non-null  object \n 3   endpoint          127716 non-null  object \n 4   appname           127716 non-null  object \n 5   service           127716 non-null  object \n 6   name              127716 non-null  object \n 7   anonymity         127716 non-null  int64  \n 8   context_id        127716 non-null  int64  \n 9   value             127716 non-null  float64\n 10  ts                127716 non-null  object \n 11  timestamp         127716 non-null  int64  \ndtypes: float64(1), int64(3), object(8)\nmemory usage: 11.7+ MB\n"
     ]
    }
   ],
   "source": [
    "log_data.info()"
   ]
  },
  {
   "cell_type": "code",
   "execution_count": 4,
   "metadata": {},
   "outputs": [
    {
     "output_type": "execute_result",
     "data": {
      "text/plain": [
       "0"
      ]
     },
     "metadata": {},
     "execution_count": 4
    }
   ],
   "source": [
    "log_data['value'].isnull().sum()"
   ]
  },
  {
   "cell_type": "code",
   "execution_count": 5,
   "metadata": {},
   "outputs": [
    {
     "output_type": "execute_result",
     "data": {
      "text/plain": [
       "(100.0, 0.162)"
      ]
     },
     "metadata": {},
     "execution_count": 5
    }
   ],
   "source": [
    "max(log_data['value']), min(log_data['value'])"
   ]
  },
  {
   "cell_type": "code",
   "execution_count": 6,
   "metadata": {},
   "outputs": [
    {
     "output_type": "execute_result",
     "data": {
      "text/plain": [
       "0"
      ]
     },
     "metadata": {},
     "execution_count": 6
    }
   ],
   "source": [
    "sum(log_data['value']==0.0)"
   ]
  },
  {
   "source": [
    "检查数据中是否存在异常点"
   ],
   "cell_type": "markdown",
   "metadata": {}
  },
  {
   "cell_type": "code",
   "execution_count": 7,
   "metadata": {},
   "outputs": [
    {
     "output_type": "execute_result",
     "data": {
      "text/plain": [
       "0"
      ]
     },
     "metadata": {},
     "execution_count": 7
    }
   ],
   "source": [
    "log_data['anonymity'].sum()"
   ]
  },
  {
   "source": [
    "对时间进行生序排列"
   ],
   "cell_type": "markdown",
   "metadata": {}
  },
  {
   "cell_type": "code",
   "execution_count": 8,
   "metadata": {},
   "outputs": [
    {
     "output_type": "execute_result",
     "data": {
      "text/plain": [
       "                             kpi_id kpiName time_interval_ms  \\\n",
       "0  3b18bacd588cc1f0c68615f0deb2f3d4    负载占比            60000   \n",
       "1  3b18bacd588cc1f0c68615f0deb2f3d4    负载占比            60000   \n",
       "2  3b18bacd588cc1f0c68615f0deb2f3d4    负载占比            60000   \n",
       "3  3b18bacd588cc1f0c68615f0deb2f3d4    负载占比            60000   \n",
       "4  3b18bacd588cc1f0c68615f0deb2f3d4    负载占比            60000   \n",
       "\n",
       "                  endpoint    appname      service  name  anonymity  \\\n",
       "0  oppf_esb_2_10.255.34.38  kpi_point  集群负载.能力开放.2  负载占比          0   \n",
       "1  oppf_esb_2_10.255.34.38  kpi_point  集群负载.能力开放.2  负载占比          0   \n",
       "2  oppf_esb_2_10.255.34.38  kpi_point  集群负载.能力开放.2  负载占比          0   \n",
       "3  oppf_esb_2_10.255.34.38  kpi_point  集群负载.能力开放.2  负载占比          0   \n",
       "4  oppf_esb_2_10.255.34.38  kpi_point  集群负载.能力开放.2  负载占比          0   \n",
       "\n",
       "   context_id   value                       ts      timestamp  \n",
       "0           0  23.369  2020-07-01:00:01:00.000  1593532912000  \n",
       "1           0  24.000  2020-07-01:00:02:00.000  1593532972000  \n",
       "2           0  27.787  2020-07-01:00:03:00.000  1593533032000  \n",
       "3           0  23.506  2020-07-01:00:04:00.000  1593533092000  \n",
       "4           0  24.867  2020-07-01:00:05:00.000  1593533152000  "
      ],
      "text/html": "<div>\n<style scoped>\n    .dataframe tbody tr th:only-of-type {\n        vertical-align: middle;\n    }\n\n    .dataframe tbody tr th {\n        vertical-align: top;\n    }\n\n    .dataframe thead th {\n        text-align: right;\n    }\n</style>\n<table border=\"1\" class=\"dataframe\">\n  <thead>\n    <tr style=\"text-align: right;\">\n      <th></th>\n      <th>kpi_id</th>\n      <th>kpiName</th>\n      <th>time_interval_ms</th>\n      <th>endpoint</th>\n      <th>appname</th>\n      <th>service</th>\n      <th>name</th>\n      <th>anonymity</th>\n      <th>context_id</th>\n      <th>value</th>\n      <th>ts</th>\n      <th>timestamp</th>\n    </tr>\n  </thead>\n  <tbody>\n    <tr>\n      <th>0</th>\n      <td>3b18bacd588cc1f0c68615f0deb2f3d4</td>\n      <td>负载占比</td>\n      <td>60000</td>\n      <td>oppf_esb_2_10.255.34.38</td>\n      <td>kpi_point</td>\n      <td>集群负载.能力开放.2</td>\n      <td>负载占比</td>\n      <td>0</td>\n      <td>0</td>\n      <td>23.369</td>\n      <td>2020-07-01:00:01:00.000</td>\n      <td>1593532912000</td>\n    </tr>\n    <tr>\n      <th>1</th>\n      <td>3b18bacd588cc1f0c68615f0deb2f3d4</td>\n      <td>负载占比</td>\n      <td>60000</td>\n      <td>oppf_esb_2_10.255.34.38</td>\n      <td>kpi_point</td>\n      <td>集群负载.能力开放.2</td>\n      <td>负载占比</td>\n      <td>0</td>\n      <td>0</td>\n      <td>24.000</td>\n      <td>2020-07-01:00:02:00.000</td>\n      <td>1593532972000</td>\n    </tr>\n    <tr>\n      <th>2</th>\n      <td>3b18bacd588cc1f0c68615f0deb2f3d4</td>\n      <td>负载占比</td>\n      <td>60000</td>\n      <td>oppf_esb_2_10.255.34.38</td>\n      <td>kpi_point</td>\n      <td>集群负载.能力开放.2</td>\n      <td>负载占比</td>\n      <td>0</td>\n      <td>0</td>\n      <td>27.787</td>\n      <td>2020-07-01:00:03:00.000</td>\n      <td>1593533032000</td>\n    </tr>\n    <tr>\n      <th>3</th>\n      <td>3b18bacd588cc1f0c68615f0deb2f3d4</td>\n      <td>负载占比</td>\n      <td>60000</td>\n      <td>oppf_esb_2_10.255.34.38</td>\n      <td>kpi_point</td>\n      <td>集群负载.能力开放.2</td>\n      <td>负载占比</td>\n      <td>0</td>\n      <td>0</td>\n      <td>23.506</td>\n      <td>2020-07-01:00:04:00.000</td>\n      <td>1593533092000</td>\n    </tr>\n    <tr>\n      <th>4</th>\n      <td>3b18bacd588cc1f0c68615f0deb2f3d4</td>\n      <td>负载占比</td>\n      <td>60000</td>\n      <td>oppf_esb_2_10.255.34.38</td>\n      <td>kpi_point</td>\n      <td>集群负载.能力开放.2</td>\n      <td>负载占比</td>\n      <td>0</td>\n      <td>0</td>\n      <td>24.867</td>\n      <td>2020-07-01:00:05:00.000</td>\n      <td>1593533152000</td>\n    </tr>\n  </tbody>\n</table>\n</div>"
     },
     "metadata": {},
     "execution_count": 8
    }
   ],
   "source": [
    "log_data.sort_values('timestamp', inplace=True, ignore_index=True)\n",
    "log_data.head()"
   ]
  },
  {
   "cell_type": "code",
   "execution_count": 9,
   "metadata": {},
   "outputs": [],
   "source": [
    "def format_timestr(timestr:str):\n",
    "    \"\"\"\n",
    "    重新格式化一下日志易的时间格式，原来的格式我看不习惯\n",
    "    \"\"\"\n",
    "    timestr = timestr.split('.')[0]\n",
    "    strs = timestr.split(':')\n",
    "    return strs[0] + \" \" + strs[1] + \":\" + strs[2] + \":\" + strs[3]"
   ]
  },
  {
   "cell_type": "code",
   "execution_count": 10,
   "metadata": {},
   "outputs": [
    {
     "output_type": "execute_result",
     "data": {
      "text/plain": [
       "'2020-07-01 00:01:00'"
      ]
     },
     "metadata": {},
     "execution_count": 10
    }
   ],
   "source": [
    "format_timestr('2020-07-01:00:01:00.000')"
   ]
  },
  {
   "source": [
    "修改一下原来的时间格式"
   ],
   "cell_type": "markdown",
   "metadata": {}
  },
  {
   "cell_type": "code",
   "execution_count": 11,
   "metadata": {},
   "outputs": [
    {
     "output_type": "execute_result",
     "data": {
      "text/plain": [
       "                             kpi_id kpiName time_interval_ms  \\\n",
       "0  3b18bacd588cc1f0c68615f0deb2f3d4    负载占比            60000   \n",
       "1  3b18bacd588cc1f0c68615f0deb2f3d4    负载占比            60000   \n",
       "2  3b18bacd588cc1f0c68615f0deb2f3d4    负载占比            60000   \n",
       "3  3b18bacd588cc1f0c68615f0deb2f3d4    负载占比            60000   \n",
       "4  3b18bacd588cc1f0c68615f0deb2f3d4    负载占比            60000   \n",
       "\n",
       "                  endpoint    appname      service  name  anonymity  \\\n",
       "0  oppf_esb_2_10.255.34.38  kpi_point  集群负载.能力开放.2  负载占比          0   \n",
       "1  oppf_esb_2_10.255.34.38  kpi_point  集群负载.能力开放.2  负载占比          0   \n",
       "2  oppf_esb_2_10.255.34.38  kpi_point  集群负载.能力开放.2  负载占比          0   \n",
       "3  oppf_esb_2_10.255.34.38  kpi_point  集群负载.能力开放.2  负载占比          0   \n",
       "4  oppf_esb_2_10.255.34.38  kpi_point  集群负载.能力开放.2  负载占比          0   \n",
       "\n",
       "   context_id   value                   ts      timestamp  \n",
       "0           0  23.369  2020-07-01 00:01:00  1593532912000  \n",
       "1           0  24.000  2020-07-01 00:02:00  1593532972000  \n",
       "2           0  27.787  2020-07-01 00:03:00  1593533032000  \n",
       "3           0  23.506  2020-07-01 00:04:00  1593533092000  \n",
       "4           0  24.867  2020-07-01 00:05:00  1593533152000  "
      ],
      "text/html": "<div>\n<style scoped>\n    .dataframe tbody tr th:only-of-type {\n        vertical-align: middle;\n    }\n\n    .dataframe tbody tr th {\n        vertical-align: top;\n    }\n\n    .dataframe thead th {\n        text-align: right;\n    }\n</style>\n<table border=\"1\" class=\"dataframe\">\n  <thead>\n    <tr style=\"text-align: right;\">\n      <th></th>\n      <th>kpi_id</th>\n      <th>kpiName</th>\n      <th>time_interval_ms</th>\n      <th>endpoint</th>\n      <th>appname</th>\n      <th>service</th>\n      <th>name</th>\n      <th>anonymity</th>\n      <th>context_id</th>\n      <th>value</th>\n      <th>ts</th>\n      <th>timestamp</th>\n    </tr>\n  </thead>\n  <tbody>\n    <tr>\n      <th>0</th>\n      <td>3b18bacd588cc1f0c68615f0deb2f3d4</td>\n      <td>负载占比</td>\n      <td>60000</td>\n      <td>oppf_esb_2_10.255.34.38</td>\n      <td>kpi_point</td>\n      <td>集群负载.能力开放.2</td>\n      <td>负载占比</td>\n      <td>0</td>\n      <td>0</td>\n      <td>23.369</td>\n      <td>2020-07-01 00:01:00</td>\n      <td>1593532912000</td>\n    </tr>\n    <tr>\n      <th>1</th>\n      <td>3b18bacd588cc1f0c68615f0deb2f3d4</td>\n      <td>负载占比</td>\n      <td>60000</td>\n      <td>oppf_esb_2_10.255.34.38</td>\n      <td>kpi_point</td>\n      <td>集群负载.能力开放.2</td>\n      <td>负载占比</td>\n      <td>0</td>\n      <td>0</td>\n      <td>24.000</td>\n      <td>2020-07-01 00:02:00</td>\n      <td>1593532972000</td>\n    </tr>\n    <tr>\n      <th>2</th>\n      <td>3b18bacd588cc1f0c68615f0deb2f3d4</td>\n      <td>负载占比</td>\n      <td>60000</td>\n      <td>oppf_esb_2_10.255.34.38</td>\n      <td>kpi_point</td>\n      <td>集群负载.能力开放.2</td>\n      <td>负载占比</td>\n      <td>0</td>\n      <td>0</td>\n      <td>27.787</td>\n      <td>2020-07-01 00:03:00</td>\n      <td>1593533032000</td>\n    </tr>\n    <tr>\n      <th>3</th>\n      <td>3b18bacd588cc1f0c68615f0deb2f3d4</td>\n      <td>负载占比</td>\n      <td>60000</td>\n      <td>oppf_esb_2_10.255.34.38</td>\n      <td>kpi_point</td>\n      <td>集群负载.能力开放.2</td>\n      <td>负载占比</td>\n      <td>0</td>\n      <td>0</td>\n      <td>23.506</td>\n      <td>2020-07-01 00:04:00</td>\n      <td>1593533092000</td>\n    </tr>\n    <tr>\n      <th>4</th>\n      <td>3b18bacd588cc1f0c68615f0deb2f3d4</td>\n      <td>负载占比</td>\n      <td>60000</td>\n      <td>oppf_esb_2_10.255.34.38</td>\n      <td>kpi_point</td>\n      <td>集群负载.能力开放.2</td>\n      <td>负载占比</td>\n      <td>0</td>\n      <td>0</td>\n      <td>24.867</td>\n      <td>2020-07-01 00:05:00</td>\n      <td>1593533152000</td>\n    </tr>\n  </tbody>\n</table>\n</div>"
     },
     "metadata": {},
     "execution_count": 11
    }
   ],
   "source": [
    "log_data['ts'] = [format_timestr(ts) for ts in log_data['ts']]\n",
    "log_data.head()"
   ]
  },
  {
   "source": [
    "检查数据中有没有漏掉的时刻"
   ],
   "cell_type": "markdown",
   "metadata": {}
  },
  {
   "cell_type": "code",
   "execution_count": 12,
   "metadata": {},
   "outputs": [
    {
     "output_type": "execute_result",
     "data": {
      "text/plain": [
       "('2020-07-01 00:01:00', '2020-09-30 23:59:00')"
      ]
     },
     "metadata": {},
     "execution_count": 12
    }
   ],
   "source": [
    "# 看一下首尾的时间\n",
    "ts_array = log_data['ts'].to_numpy()\n",
    "ts_array[0], ts_array[-1]"
   ]
  },
  {
   "source": [
    "首尾时间所对照的间隔为1分钟的时间范围"
   ],
   "cell_type": "markdown",
   "metadata": {}
  },
  {
   "cell_type": "code",
   "execution_count": 13,
   "metadata": {},
   "outputs": [
    {
     "output_type": "execute_result",
     "data": {
      "text/plain": [
       "DatetimeIndex(['2020-07-01 00:01:00', '2020-07-01 00:02:00',\n",
       "               '2020-07-01 00:03:00', '2020-07-01 00:04:00',\n",
       "               '2020-07-01 00:05:00', '2020-07-01 00:06:00',\n",
       "               '2020-07-01 00:07:00', '2020-07-01 00:08:00',\n",
       "               '2020-07-01 00:09:00', '2020-07-01 00:10:00',\n",
       "               ...\n",
       "               '2020-09-30 23:50:00', '2020-09-30 23:51:00',\n",
       "               '2020-09-30 23:52:00', '2020-09-30 23:53:00',\n",
       "               '2020-09-30 23:54:00', '2020-09-30 23:55:00',\n",
       "               '2020-09-30 23:56:00', '2020-09-30 23:57:00',\n",
       "               '2020-09-30 23:58:00', '2020-09-30 23:59:00'],\n",
       "              dtype='datetime64[ns]', length=132479, freq='T')"
      ]
     },
     "metadata": {},
     "execution_count": 13
    }
   ],
   "source": [
    "ts_range = pd.date_range(ts_array[0], ts_array[-1], freq='min')\n",
    "ts_range"
   ]
  },
  {
   "source": [
    "判断是否缺失数据"
   ],
   "cell_type": "markdown",
   "metadata": {}
  },
  {
   "cell_type": "code",
   "execution_count": 14,
   "metadata": {},
   "outputs": [
    {
     "output_type": "execute_result",
     "data": {
      "text/plain": [
       "(127716, 132479)"
      ]
     },
     "metadata": {},
     "execution_count": 14
    }
   ],
   "source": [
    "len(log_data), len(ts_range)"
   ]
  },
  {
   "source": [
    "**缺失数据，需要重新创建刘表**"
   ],
   "cell_type": "markdown",
   "metadata": {}
  },
  {
   "cell_type": "code",
   "execution_count": 25,
   "metadata": {},
   "outputs": [
    {
     "output_type": "execute_result",
     "data": {
      "text/plain": [
       "                    ts\n",
       "0  2020-07-01 00:01:00\n",
       "1  2020-07-01 00:02:00\n",
       "2  2020-07-01 00:03:00\n",
       "3  2020-07-01 00:04:00\n",
       "4  2020-07-01 00:05:00"
      ],
      "text/html": "<div>\n<style scoped>\n    .dataframe tbody tr th:only-of-type {\n        vertical-align: middle;\n    }\n\n    .dataframe tbody tr th {\n        vertical-align: top;\n    }\n\n    .dataframe thead th {\n        text-align: right;\n    }\n</style>\n<table border=\"1\" class=\"dataframe\">\n  <thead>\n    <tr style=\"text-align: right;\">\n      <th></th>\n      <th>ts</th>\n    </tr>\n  </thead>\n  <tbody>\n    <tr>\n      <th>0</th>\n      <td>2020-07-01 00:01:00</td>\n    </tr>\n    <tr>\n      <th>1</th>\n      <td>2020-07-01 00:02:00</td>\n    </tr>\n    <tr>\n      <th>2</th>\n      <td>2020-07-01 00:03:00</td>\n    </tr>\n    <tr>\n      <th>3</th>\n      <td>2020-07-01 00:04:00</td>\n    </tr>\n    <tr>\n      <th>4</th>\n      <td>2020-07-01 00:05:00</td>\n    </tr>\n  </tbody>\n</table>\n</div>"
     },
     "metadata": {},
     "execution_count": 25
    }
   ],
   "source": [
    "# 集群负载值\n",
    "cluser_values = np.zeros(len(ts_range))\n",
    "ts_full = [dt.strftime('%Y-%m-%d %H:%M:%S') for dt in ts_range]\n",
    "# log_data_full = pd.DataFrame(data={'value':cluser_values, 'ts':ts_full})\n",
    "log_data_full = pd.DataFrame(data={ 'ts':ts_full})\n",
    "log_data_full.head()"
   ]
  },
  {
   "cell_type": "code",
   "execution_count": 16,
   "metadata": {},
   "outputs": [],
   "source": [
    "# for ts in log_data['ts']:\n",
    "#     log_data_full[log_data_full['ts']==ts]['value']=log_data[log_data['ts']==ts]['value']\n",
    "\n",
    "# log_data_full.head()"
   ]
  },
  {
   "cell_type": "code",
   "execution_count": 27,
   "metadata": {},
   "outputs": [],
   "source": [
    "result = pd.merge(log_data_full, log_data, how='left', on=[ 'ts'])"
   ]
  },
  {
   "cell_type": "code",
   "execution_count": 24,
   "metadata": {},
   "outputs": [
    {
     "output_type": "execute_result",
     "data": {
      "text/plain": [
       "   value                   ts kpi_id kpiName time_interval_ms endpoint  \\\n",
       "0    0.0  2020-07-01 00:01:00    NaN     NaN              NaN      NaN   \n",
       "1    0.0  2020-07-01 00:02:00    NaN     NaN              NaN      NaN   \n",
       "2    0.0  2020-07-01 00:03:00    NaN     NaN              NaN      NaN   \n",
       "3    0.0  2020-07-01 00:04:00    NaN     NaN              NaN      NaN   \n",
       "4    0.0  2020-07-01 00:05:00    NaN     NaN              NaN      NaN   \n",
       "\n",
       "  appname service name  anonymity  context_id  timestamp  \n",
       "0     NaN     NaN  NaN        NaN         NaN        NaN  \n",
       "1     NaN     NaN  NaN        NaN         NaN        NaN  \n",
       "2     NaN     NaN  NaN        NaN         NaN        NaN  \n",
       "3     NaN     NaN  NaN        NaN         NaN        NaN  \n",
       "4     NaN     NaN  NaN        NaN         NaN        NaN  "
      ],
      "text/html": "<div>\n<style scoped>\n    .dataframe tbody tr th:only-of-type {\n        vertical-align: middle;\n    }\n\n    .dataframe tbody tr th {\n        vertical-align: top;\n    }\n\n    .dataframe thead th {\n        text-align: right;\n    }\n</style>\n<table border=\"1\" class=\"dataframe\">\n  <thead>\n    <tr style=\"text-align: right;\">\n      <th></th>\n      <th>value</th>\n      <th>ts</th>\n      <th>kpi_id</th>\n      <th>kpiName</th>\n      <th>time_interval_ms</th>\n      <th>endpoint</th>\n      <th>appname</th>\n      <th>service</th>\n      <th>name</th>\n      <th>anonymity</th>\n      <th>context_id</th>\n      <th>timestamp</th>\n    </tr>\n  </thead>\n  <tbody>\n    <tr>\n      <th>0</th>\n      <td>0.0</td>\n      <td>2020-07-01 00:01:00</td>\n      <td>NaN</td>\n      <td>NaN</td>\n      <td>NaN</td>\n      <td>NaN</td>\n      <td>NaN</td>\n      <td>NaN</td>\n      <td>NaN</td>\n      <td>NaN</td>\n      <td>NaN</td>\n      <td>NaN</td>\n    </tr>\n    <tr>\n      <th>1</th>\n      <td>0.0</td>\n      <td>2020-07-01 00:02:00</td>\n      <td>NaN</td>\n      <td>NaN</td>\n      <td>NaN</td>\n      <td>NaN</td>\n      <td>NaN</td>\n      <td>NaN</td>\n      <td>NaN</td>\n      <td>NaN</td>\n      <td>NaN</td>\n      <td>NaN</td>\n    </tr>\n    <tr>\n      <th>2</th>\n      <td>0.0</td>\n      <td>2020-07-01 00:03:00</td>\n      <td>NaN</td>\n      <td>NaN</td>\n      <td>NaN</td>\n      <td>NaN</td>\n      <td>NaN</td>\n      <td>NaN</td>\n      <td>NaN</td>\n      <td>NaN</td>\n      <td>NaN</td>\n      <td>NaN</td>\n    </tr>\n    <tr>\n      <th>3</th>\n      <td>0.0</td>\n      <td>2020-07-01 00:04:00</td>\n      <td>NaN</td>\n      <td>NaN</td>\n      <td>NaN</td>\n      <td>NaN</td>\n      <td>NaN</td>\n      <td>NaN</td>\n      <td>NaN</td>\n      <td>NaN</td>\n      <td>NaN</td>\n      <td>NaN</td>\n    </tr>\n    <tr>\n      <th>4</th>\n      <td>0.0</td>\n      <td>2020-07-01 00:05:00</td>\n      <td>NaN</td>\n      <td>NaN</td>\n      <td>NaN</td>\n      <td>NaN</td>\n      <td>NaN</td>\n      <td>NaN</td>\n      <td>NaN</td>\n      <td>NaN</td>\n      <td>NaN</td>\n      <td>NaN</td>\n    </tr>\n  </tbody>\n</table>\n</div>"
     },
     "metadata": {},
     "execution_count": 24
    }
   ],
   "source": [
    "result.head()"
   ]
  },
  {
   "cell_type": "code",
   "execution_count": 28,
   "metadata": {},
   "outputs": [
    {
     "output_type": "stream",
     "name": "stdout",
     "text": [
      "<class 'pandas.core.frame.DataFrame'>\nInt64Index: 133958 entries, 0 to 133957\nData columns (total 12 columns):\n #   Column            Non-Null Count   Dtype  \n---  ------            --------------   -----  \n 0   ts                133958 non-null  object \n 1   kpi_id            127716 non-null  object \n 2   kpiName           127716 non-null  object \n 3   time_interval_ms  127716 non-null  object \n 4   endpoint          127716 non-null  object \n 5   appname           127716 non-null  object \n 6   service           127716 non-null  object \n 7   name              127716 non-null  object \n 8   anonymity         127716 non-null  float64\n 9   context_id        127716 non-null  float64\n 10  value             127716 non-null  float64\n 11  timestamp         127716 non-null  float64\ndtypes: float64(4), object(8)\nmemory usage: 13.3+ MB\n"
     ]
    }
   ],
   "source": [
    "result.info()"
   ]
  },
  {
   "cell_type": "code",
   "execution_count": null,
   "metadata": {},
   "outputs": [],
   "source": []
  }
 ]
}